{
  "nbformat": 4,
  "nbformat_minor": 0,
  "metadata": {
    "colab": {
      "provenance": []
    },
    "kernelspec": {
      "name": "python3",
      "display_name": "Python 3"
    },
    "language_info": {
      "name": "python"
    }
  },
  "cells": [
    {
      "cell_type": "code",
      "source": [
        "from google.colab import files\n",
        "import os\n",
        "import zipfile\n",
        "\n",
        "import numpy as np\n",
        "import random\n",
        "from google.colab import drive"
      ],
      "metadata": {
        "id": "sNE_n59UaOcf"
      },
      "execution_count": null,
      "outputs": []
    },
    {
      "cell_type": "code",
      "execution_count": null,
      "metadata": {
        "id": "pieTbJusaBMy"
      },
      "outputs": [],
      "source": [
        "!wget -O hockeyfights.zip https://www.dropbox.com/sh/pmqpxc6bbckwd1j/AAAh5iUjDRiDEg6CEHHSbqDna?dl=0\n",
        "!unzip hockeyfights.zip -d hockeyfights"
      ]
    },
    {
      "cell_type": "code",
      "source": [
        "drive.mount('/content/drive')"
      ],
      "metadata": {
        "colab": {
          "base_uri": "https://localhost:8080/"
        },
        "id": "rGnrwT2kaui0",
        "outputId": "c6c8e819-b0c5-46b7-ccb3-42389d76a29f"
      },
      "execution_count": null,
      "outputs": [
        {
          "output_type": "stream",
          "name": "stdout",
          "text": [
            "Mounted at /content/drive\n"
          ]
        }
      ]
    },
    {
      "cell_type": "code",
      "source": [
        "%cp 'hockeyfights' './drive/MyDrive/Neural Network 2023/Extra/' -r"
      ],
      "metadata": {
        "id": "uJAYClfXeXWa"
      },
      "execution_count": null,
      "outputs": []
    }
  ]
}